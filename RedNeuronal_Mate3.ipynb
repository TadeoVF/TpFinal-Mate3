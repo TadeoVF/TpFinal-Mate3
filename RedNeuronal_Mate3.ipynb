{
  "nbformat": 4,
  "nbformat_minor": 0,
  "metadata": {
    "colab": {
      "provenance": []
    },
    "kernelspec": {
      "name": "python3",
      "display_name": "Python 3"
    },
    "language_info": {
      "name": "python"
    }
  },
  "cells": [
    {
      "cell_type": "markdown",
      "source": [
        "Empezamos con los imputs y leyendo el csv"
      ],
      "metadata": {
        "id": "s4wNlcVEm7H4"
      }
    },
    {
      "cell_type": "code",
      "execution_count": 72,
      "metadata": {
        "id": "-WKKErcxgFoY"
      },
      "outputs": [],
      "source": [
        "import numpy as np\n",
        "import pandas as pd\n",
        "from sklearn.model_selection import train_test_split\n",
        "\n",
        "\n",
        "df = pd.read_csv('diabetes_prediccion_normalizado.csv')"
      ]
    },
    {
      "cell_type": "markdown",
      "source": [
        "Dividimos los valores de entrada y salida(x, y), dividimos para entrenamiento y prueba y los transponemos para no tener problemas luego con los calculos, luego inicializamos de forma random (controlada) los pesos y sesgos de las capas ocultas y de salida"
      ],
      "metadata": {
        "id": "LCytRGg1nEjH"
      }
    },
    {
      "cell_type": "code",
      "source": [
        "X = df.drop(columns=['diabetes']).values\n",
        "y = df['diabetes'].values.reshape(-1, 1)\n",
        "\n",
        "XTrain, XTest, yTrain, yTest = train_test_split(X, y, test_size=1/3, random_state=42)\n",
        "XTrain = XTrain.T\n",
        "XTest = XTest.T\n",
        "yTrain = yTrain.T\n",
        "yTest = yTest.T\n",
        "\n",
        "n = XTrain.shape[0]\n",
        "nHidden = 6\n",
        "nOutputs = 1\n",
        "\n",
        "np.random.seed(50)\n",
        "\n",
        "WHidden = np.random.randn(nHidden, n)\n",
        "bHidden = np.random.randn(nHidden, 1)\n",
        "\n",
        "WOutput = np.random.randn(nOutputs, nHidden)\n",
        "bOutput = np.random.randn(nOutputs, 1)\n",
        "\n",
        "print(\"W1 shape:\", WHidden.shape)\n",
        "print(\"W2 shape:\", WOutput.shape)\n",
        "print(\"b1 shape:\", bHidden.shape)\n",
        "print(\"b2 shape:\", bOutput)"
      ],
      "metadata": {
        "colab": {
          "base_uri": "https://localhost:8080/"
        },
        "id": "MyD5y675iga0",
        "outputId": "528aef88-21ac-4a86-df98-547a473048a4"
      },
      "execution_count": 73,
      "outputs": [
        {
          "output_type": "stream",
          "name": "stdout",
          "text": [
            "W1 shape: (6, 12)\n",
            "W2 shape: (1, 6)\n",
            "b1 shape: (6, 1)\n",
            "b2 shape: [[-0.19904969]]\n"
          ]
        }
      ]
    },
    {
      "cell_type": "markdown",
      "source": [
        "Creamos las funciones de activacion relu y logistic, ademas de la funcion forwardProp"
      ],
      "metadata": {
        "id": "NXc3k7KeqBcF"
      }
    },
    {
      "cell_type": "code",
      "source": [
        "relu = lambda x: np.maximum(x, 0) #Para la capa oculta\n",
        "logistic = lambda x: 1 / (1 + np.exp(-x)) #Para la capa de salida\n",
        "\n",
        "reluDerivada = lambda x: x > 0\n",
        "logisticDerivada = lambda x: np.exp(-x) / (1 + np.exp(-x)) ** 2\n",
        "\n",
        "def forwardProp(X): # Forward propagation con una capa oculta y una capa de salida\n",
        "    Z1 = WHidden @ X + bHidden\n",
        "    A1 = relu(Z1)\n",
        "    Z2 = WOutput @ A1 + bOutput\n",
        "    A2 = logistic(Z2)\n",
        "    return Z1, A1, Z2, A2"
      ],
      "metadata": {
        "id": "7Q5c-ckZqBmE"
      },
      "execution_count": 74,
      "outputs": []
    },
    {
      "cell_type": "markdown",
      "source": [
        "Llamamos la forwardProp con los datos de testeo, convertimos las predicciones en binarios y los aplanamos a un array, tambien aplanamos los outputs reales para que tengan la misma dimension. Luego comparamos las predicciones con los outputs reales y calculamos la presicion de nuestro modelo"
      ],
      "metadata": {
        "id": "rmoL31MnxVCF"
      }
    },
    {
      "cell_type": "code",
      "source": [
        "print(\"XTest:\", XTest.shape)\n",
        "print(\"WHidden:\", WHidden.shape)\n",
        "\n",
        "testeoPredicciones = forwardProp(XTest)[3]\n",
        "\n",
        "prediccionesProcesadas = (testeoPredicciones >= 0.5).flatten().astype(int)\n",
        "datosRealesProcesados = yTest.flatten().astype(int)\n",
        "\n",
        "\n",
        "comparacion = np.equal(prediccionesProcesadas, datosRealesProcesados)\n",
        "precision = np.sum(comparacion.astype(int)) / yTest.size\n",
        "\n",
        "print(f\"Número de muestras de prueba: {yTest.size}\")\n",
        "print(f\"Número de predicciones correctas: {np.sum(comparacion.astype(int))}\")\n",
        "print(\"Precisión:\", precision)"
      ],
      "metadata": {
        "colab": {
          "base_uri": "https://localhost:8080/"
        },
        "id": "WIoFJ2gGxVPs",
        "outputId": "aa5e6930-34a3-4590-b47d-8de6bc7c038f"
      },
      "execution_count": 75,
      "outputs": [
        {
          "output_type": "stream",
          "name": "stdout",
          "text": [
            "XTest: (12, 33328)\n",
            "WHidden: (6, 12)\n",
            "Número de muestras de prueba: 33328\n",
            "Número de predicciones correctas: 21294\n",
            "Precisión: 0.638922227556409\n"
          ]
        }
      ]
    },
    {
      "cell_type": "markdown",
      "source": [
        "Utilizamos el backwardPropagation de forma totalmente standar y fiel a la teoria de nuestros apuntes, haciendo las derivadas parciales por proceso"
      ],
      "metadata": {
        "id": "YxAecCrfBYZy"
      }
    },
    {
      "cell_type": "code",
      "source": [
        "def backwardProp(Z1, A1, Z2, A2, X, Y):\n",
        "    dC_dA2 = 2 * A2 - 2 * Y\n",
        "    dA2_dZ2 = logisticDerivada(Z2)\n",
        "    dZ2_dA1 = WOutput\n",
        "    dZ2_dW2 = A1\n",
        "    dZ2_dB2 = 1\n",
        "    dA1_dZ1 = reluDerivada(Z1)\n",
        "    dZ1_dW1 = X\n",
        "    dZ1_dB1 = 1\n",
        "\n",
        "    dC_dW2 = dC_dA2 @ dA2_dZ2 @ dZ2_dW2.T\n",
        "\n",
        "    dC_dB2 = dC_dA2 @ dA2_dZ2 * dZ2_dB2\n",
        "\n",
        "    dC_dA1 = dC_dA2 @ dA2_dZ2 @ dZ2_dA1\n",
        "\n",
        "    dC_dW1 = dC_dA1 @ dA1_dZ1 @ dZ1_dW1.T\n",
        "\n",
        "    dC_dB1 = dC_dA1 @ dA1_dZ1 * dZ1_dB1\n",
        "\n",
        "    return dC_dW1, dC_dB1, dC_dW2, dC_dB2"
      ],
      "metadata": {
        "id": "S9NdWhzzBYJC"
      },
      "execution_count": 76,
      "outputs": []
    },
    {
      "cell_type": "markdown",
      "source": [
        "Damos un ritmo de apredizaje y empezamos a entrenar nuestro modelo con descenso de gradiente estocastico, que es tambien la forma que vimos durante la cursada, ajustando los pesos y sesgos con cada iteracion"
      ],
      "metadata": {
        "id": "Kl0lSseE-nfR"
      }
    },
    {
      "cell_type": "code",
      "source": [
        "L = 0.01\n",
        "\n",
        "for i in range(10000):\n",
        "\n",
        "    idx = np.random.choice(n, 1, replace=False)\n",
        "    X_sample = XTrain[:, idx]\n",
        "    Y_sample = yTrain[:, idx]\n",
        "\n",
        "    Z1, A1, Z2, A2 = forwardProp(X_sample)\n",
        "\n",
        "    dW1, dB1, dW2, dB2 = backwardProp(Z1, A1, Z2, A2, X_sample, Y_sample)\n",
        "\n",
        "    WHidden -= L * dW1\n",
        "    bHidden -= L * dB1\n",
        "    WOutput -= L * dW2\n",
        "    bOutput -= L * dB2"
      ],
      "metadata": {
        "id": "RTwB9ETI-nq3"
      },
      "execution_count": 77,
      "outputs": []
    },
    {
      "cell_type": "markdown",
      "source": [
        "Volvemos a utilizar nuestro codigo de presicion para ver como le va a nuestra red una vez ya entrenada, mirando los resultados con los datos de entrenamiento y de testeo para poder compararlos"
      ],
      "metadata": {
        "id": "Aeq16g6KAwW9"
      }
    },
    {
      "cell_type": "code",
      "source": [
        "entrenamientoPredicciones = forwardProp(XTrain)[3]\n",
        "\n",
        "prediccionesEntrenamientoProcesadas = (entrenamientoPredicciones >= 0.5).flatten().astype(int)\n",
        "datosRealesEntrenamientoProcesados = yTrain.flatten().astype(int)\n",
        "\n",
        "\n",
        "comparacion = np.equal(prediccionesEntrenamientoProcesadas, datosRealesEntrenamientoProcesados)\n",
        "precision = np.sum(comparacion.astype(int)) / yTrain.size\n",
        "\n",
        "print(f\"Número de muestras de entrenamiento: {yTrain.size}\")\n",
        "print(f\"Número de predicciones correctas: {np.sum(comparacion.astype(int))}\")\n",
        "print(\"Precisión:\", precision)\n",
        "\n",
        "print(\"-------------------------------------------------------------------------\")\n",
        "\n",
        "testeoPredicciones = forwardProp(XTest)[3]\n",
        "\n",
        "prediccionesProcesadas = (testeoPredicciones >= 0.5).flatten().astype(int)\n",
        "datosRealesProcesados = yTest.flatten().astype(int)\n",
        "\n",
        "\n",
        "comparacion = np.equal(prediccionesProcesadas, datosRealesProcesados)\n",
        "precision = np.sum(comparacion.astype(int)) / yTest.size\n",
        "\n",
        "print(f\"Número de muestras de prueba: {yTest.size}\")\n",
        "print(f\"Número de predicciones correctas: {np.sum(comparacion.astype(int))}\")\n",
        "print(\"Precisión:\", precision)"
      ],
      "metadata": {
        "colab": {
          "base_uri": "https://localhost:8080/"
        },
        "id": "GdyrF1ugAwet",
        "outputId": "ab1293d3-389a-421d-a510-fb67326ee5e9"
      },
      "execution_count": 78,
      "outputs": [
        {
          "output_type": "stream",
          "name": "stdout",
          "text": [
            "Número de muestras de entrenamiento: 66654\n",
            "Número de predicciones correctas: 60914\n",
            "Precisión: 0.9138836378911993\n",
            "-------------------------------------------------------------------------\n",
            "Número de muestras de prueba: 33328\n",
            "Número de predicciones correctas: 30366\n",
            "Precisión: 0.9111257801248199\n"
          ]
        }
      ]
    }
  ]
}