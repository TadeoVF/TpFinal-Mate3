{
  "cells": [
    {
      "cell_type": "markdown",
      "metadata": {
        "id": "Gm4DH4PX54KF"
      },
      "source": [
        "Empezamos haciendo los imports necesarios y definiendo el dataframe"
      ]
    },
    {
      "cell_type": "code",
      "execution_count": 2,
      "metadata": {
        "id": "cyhHXHWZWLKQ"
      },
      "outputs": [
        {
          "ename": "ModuleNotFoundError",
          "evalue": "No module named 'pandas'",
          "output_type": "error",
          "traceback": [
            "\u001b[31m---------------------------------------------------------------------------\u001b[39m",
            "\u001b[31mModuleNotFoundError\u001b[39m                       Traceback (most recent call last)",
            "\u001b[36mCell\u001b[39m\u001b[36m \u001b[39m\u001b[32mIn[2]\u001b[39m\u001b[32m, line 1\u001b[39m\n\u001b[32m----> \u001b[39m\u001b[32m1\u001b[39m \u001b[38;5;28;01mimport\u001b[39;00m\u001b[38;5;250m \u001b[39m\u001b[34;01mpandas\u001b[39;00m\u001b[38;5;250m \u001b[39m\u001b[38;5;28;01mas\u001b[39;00m\u001b[38;5;250m \u001b[39m\u001b[34;01mpd\u001b[39;00m\n\u001b[32m      2\u001b[39m \u001b[38;5;28;01mimport\u001b[39;00m\u001b[38;5;250m \u001b[39m\u001b[34;01mnumpy\u001b[39;00m\u001b[38;5;250m \u001b[39m\u001b[38;5;28;01mas\u001b[39;00m\u001b[38;5;250m \u001b[39m\u001b[34;01mnp\u001b[39;00m\n\u001b[32m      3\u001b[39m \u001b[38;5;28;01mimport\u001b[39;00m\u001b[38;5;250m \u001b[39m\u001b[34;01mmatplotlib\u001b[39;00m\u001b[34;01m.\u001b[39;00m\u001b[34;01mpyplot\u001b[39;00m\u001b[38;5;250m \u001b[39m\u001b[38;5;28;01mas\u001b[39;00m\u001b[38;5;250m \u001b[39m\u001b[34;01mplt\u001b[39;00m\n",
            "\u001b[31mModuleNotFoundError\u001b[39m: No module named 'pandas'"
          ]
        }
      ],
      "source": [
        "import pandas as pd\n",
        "import numpy as np\n",
        "import matplotlib.pyplot as plt\n",
        "\n",
        "df = pd.read_csv(\"diabetes_prediction_dataset.csv\")"
      ]
    },
    {
      "cell_type": "markdown",
      "metadata": {
        "id": "IZm1ichz6Ai0"
      },
      "source": [
        "Transformamos los valores redundantes y los combinamos para una mayor claridad"
      ]
    },
    {
      "cell_type": "code",
      "execution_count": null,
      "metadata": {
        "colab": {
          "base_uri": "https://localhost:8080/",
          "height": 241
        },
        "collapsed": true,
        "id": "RAVGzN5P0Ex8",
        "outputId": "60486868-ce4e-4afa-dd5f-37d7ce12f95f"
      },
      "outputs": [],
      "source": [
        "def agruparValoresRedundatesFumadores(valor):\n",
        "    valor = valor.lower()\n",
        "    if valor in ['never']:\n",
        "        return 'never'\n",
        "    elif valor in ['former', 'not current', 'ever']:\n",
        "        return 'not_current'\n",
        "    elif valor in ['current']:\n",
        "        return 'current'\n",
        "    else:\n",
        "        return 'unknown'\n",
        "\n",
        "df['smoking_history'] = df['smoking_history'].apply(agruparValoresRedundatesFumadores)\n",
        "\n",
        "df['smoking_history'].value_counts()"
      ]
    },
    {
      "cell_type": "markdown",
      "metadata": {
        "id": "wzUVQCU7663t"
      },
      "source": [
        "Quitamos las muestras de genero \"other\" ya que en cantidad son irrelevantes"
      ]
    },
    {
      "cell_type": "code",
      "execution_count": null,
      "metadata": {
        "colab": {
          "base_uri": "https://localhost:8080/",
          "height": 196
        },
        "id": "Aeu9XUKOcuxn",
        "outputId": "649ae886-c7cf-46cb-8538-c118df1e68d3"
      },
      "outputs": [],
      "source": [
        "print((df['gender'] == 'Other').sum())\n",
        "\n",
        "df = df[df['gender'] != 'Other']\n",
        "\n",
        "df['gender'].value_counts()\n"
      ]
    },
    {
      "cell_type": "markdown",
      "metadata": {
        "id": "wZ7oH3IqKOY1"
      },
      "source": [
        "Hacemos OneHot encoding de las columnas gender y smoking_history. Además, convertimos los valores binarios True y False en 1 y 0 (no necesario)"
      ]
    },
    {
      "cell_type": "code",
      "execution_count": null,
      "metadata": {
        "colab": {
          "base_uri": "https://localhost:8080/",
          "height": 226
        },
        "collapsed": true,
        "id": "xSyelDNdx67n",
        "outputId": "e72c158d-ad5f-4f7a-e78c-99d27fe91896"
      },
      "outputs": [],
      "source": [
        "dfOneHot = pd.get_dummies(df, columns=[\"gender\", \"smoking_history\"])\n",
        "\n",
        "for column in dfOneHot.columns:\n",
        "    if dfOneHot[column].dtype == bool:\n",
        "        dfOneHot[column] = dfOneHot[column].astype(int)\n",
        "\n",
        "dfOneHot.head()"
      ]
    },
    {
      "cell_type": "markdown",
      "metadata": {
        "id": "hmHDOkCgPKMH"
      },
      "source": [
        "Obtenemos las correlaciones entre las columnas de nuestro df, pero como realmente solo nos interesa como actuan en relacion a nuestra columna objetivo (diabetes) nos concentramos en ella"
      ]
    },
    {
      "cell_type": "code",
      "execution_count": null,
      "metadata": {
        "colab": {
          "base_uri": "https://localhost:8080/"
        },
        "id": "1CV3nLM4NMUR",
        "outputId": "418d4f6d-8cf8-4c76-9006-7db05b257de8"
      },
      "outputs": [],
      "source": [
        "correlaciones = dfOneHot.corr(method='pearson')\n",
        "\n",
        "correlacionesConDiabetes = correlaciones['diabetes'].sort_values(key=abs, ascending=False)\n",
        "\n",
        "print(correlacionesConDiabetes)"
      ]
    },
    {
      "cell_type": "markdown",
      "metadata": {
        "id": "CDt0sf36h7JY"
      },
      "source": [
        "Usamos mathplot para ver los Boxplot de las columnas no binarias, asi podremos identificar los outliers y decidir la normalizacion"
      ]
    },
    {
      "cell_type": "code",
      "execution_count": null,
      "metadata": {
        "colab": {
          "base_uri": "https://localhost:8080/",
          "height": 944
        },
        "id": "O8kMW--df9Wy",
        "outputId": "15f18746-0d2b-4bfe-bbc7-42196c54ccec"
      },
      "outputs": [],
      "source": [
        "columnasParaVer = ['age', 'bmi', 'HbA1c_level', 'blood_glucose_level']\n",
        "\n",
        "plt.figure(figsize=(15, 10))\n",
        "\n",
        "for i, columna in enumerate(columnasParaVer):\n",
        "    plt.subplot(2, 2, i + 1)\n",
        "    plt.boxplot(dfOneHot[columna].dropna())\n",
        "    plt.title(f'Boxplot de {columna}')\n",
        "    plt.ylabel(f'Valores de {columna}')\n",
        "\n",
        "plt.tight_layout()\n",
        "plt.show()"
      ]
    },
    {
      "cell_type": "markdown",
      "metadata": {
        "id": "1OIgxB_BPaT_"
      },
      "source": [
        "Para el normalizado usamos RobustScaler (explicado en el informe), pero lo haremos \"a mano\" en lugar de con sklearn:\n",
        "(Xi-Xmediana) / Xiqr"
      ]
    },
    {
      "cell_type": "code",
      "execution_count": null,
      "metadata": {
        "colab": {
          "base_uri": "https://localhost:8080/"
        },
        "id": "VZbORXFIPZKw",
        "outputId": "68408cb5-671e-4002-996e-c832111226c5"
      },
      "outputs": [],
      "source": [
        "dfNormalizado = dfOneHot.copy()\n",
        "\n",
        "columnasEstandarizables = ['age', 'bmi', 'HbA1c_level', 'blood_glucose_level']\n",
        "\n",
        "for columna in columnasEstandarizables:\n",
        "    mediana = dfNormalizado[columna].median()\n",
        "    Q1 = dfNormalizado[columna].quantile(0.25)\n",
        "    Q3 = dfNormalizado[columna].quantile(0.75)\n",
        "    IQR = Q3 - Q1\n",
        "    # Evitar división por cero\n",
        "    if IQR == 0:\n",
        "        dfNormalizado[columna] = 0\n",
        "    else:\n",
        "        dfNormalizado[columna] = (dfNormalizado[columna] - mediana) / IQR\n",
        "\n",
        "print(dfNormalizado[columnasEstandarizables].head())\n"
      ]
    },
    {
      "cell_type": "markdown",
      "metadata": {
        "id": "rdsHcoSI1t69"
      },
      "source": [
        "Ya con todo terminado, hacemos el nuevo csv con los datos depurados"
      ]
    },
    {
      "cell_type": "code",
      "execution_count": null,
      "metadata": {
        "id": "owFuP-xi1S0O"
      },
      "outputs": [],
      "source": [
        "dfNormalizado.to_csv('diabetes_prediccion_normalizado.csv',index=False)"
      ]
    }
  ],
  "metadata": {
    "colab": {
      "provenance": []
    },
    "kernelspec": {
      "display_name": "Python 3",
      "name": "python3"
    },
    "language_info": {
      "codemirror_mode": {
        "name": "ipython",
        "version": 3
      },
      "file_extension": ".py",
      "mimetype": "text/x-python",
      "name": "python",
      "nbconvert_exporter": "python",
      "pygments_lexer": "ipython3",
      "version": "3.11.9"
    }
  },
  "nbformat": 4,
  "nbformat_minor": 0
}
