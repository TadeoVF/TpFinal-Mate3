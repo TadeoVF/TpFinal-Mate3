{
  "nbformat": 4,
  "nbformat_minor": 0,
  "metadata": {
    "colab": {
      "provenance": []
    },
    "kernelspec": {
      "name": "python3",
      "display_name": "Python 3"
    },
    "language_info": {
      "name": "python"
    }
  },
  "cells": [
    {
      "cell_type": "code",
      "execution_count": 4,
      "metadata": {
        "colab": {
          "base_uri": "https://localhost:8080/"
        },
        "id": "axafME_YGu_J",
        "outputId": "7fe82062-01d9-4b4b-8a11-0adbd5764796"
      },
      "outputs": [
        {
          "output_type": "stream",
          "name": "stdout",
          "text": [
            "Pesos: [array([[-2.37728774e-01, -1.90094473e-01, -2.42579916e-01,\n",
            "        -1.47431488e-01,  4.07222084e-02,  8.15079462e-01],\n",
            "       [-1.39611007e-01, -8.98872205e-02, -5.34458288e-02,\n",
            "        -4.74049726e-01,  5.70250312e-03,  6.66518810e-02],\n",
            "       [ 5.32396747e-02, -5.20415874e-02, -1.22486378e-01,\n",
            "        -2.97053902e-01, -1.71926290e-02,  2.33723494e-01],\n",
            "       [-2.55556843e-03, -4.53901812e-02, -4.38823321e-02,\n",
            "        -3.24770847e-01,  2.65059748e-02, -2.83705474e-01],\n",
            "       [-2.89044301e+00, -2.23748522e+00, -3.56728660e+00,\n",
            "        -7.27218915e-01, -4.55224239e+00, -4.71807553e-01],\n",
            "       [-1.71790841e-02, -1.71650727e-01, -2.21858270e-01,\n",
            "        -1.33700991e-01,  1.42335131e-01, -4.70715480e-02],\n",
            "       [ 2.39332308e-01,  7.01910025e-01,  1.09006150e+00,\n",
            "         8.62951952e-02,  7.09013851e-01, -3.49172555e-02],\n",
            "       [ 2.42102948e-01,  5.74023707e-01,  1.08260689e+00,\n",
            "         2.66704190e-01,  7.12048511e-01, -1.19540983e-01],\n",
            "       [ 2.84992406e-01,  1.32591621e-01,  3.21223000e-01,\n",
            "         1.36308831e-01,  4.11045898e-01, -3.57395615e-01],\n",
            "       [ 5.99317140e-02,  1.87481991e-01,  3.32029621e-01,\n",
            "         2.67885524e-01,  4.07038873e-01, -5.37566397e-01],\n",
            "       [ 9.01804154e-02,  1.11977391e-01,  4.20790533e-01,\n",
            "        -1.13045780e-01,  4.08666766e-01,  2.30097919e-01],\n",
            "       [-2.15682122e-02,  2.90261742e-01,  4.10874570e-01,\n",
            "         1.36707556e-01,  4.00971380e-01,  3.65323110e-01]]), array([[-2.80936959],\n",
            "       [-2.38634138],\n",
            "       [-3.84059352],\n",
            "       [-0.9499509 ],\n",
            "       [ 4.41693531],\n",
            "       [-0.59193247]])]\n",
            "Sesgos: [array([-0.38589978,  1.43436781,  1.92598864,  0.85363209,  1.36107806,\n",
            "       -0.2489166 ]), array([5.07456728])]\n",
            "Puntaje del conjunto de entrenamiento: 0.9658085036156869\n",
            "Puntaje del conjunto de prueba: 0.9659745559289487\n"
          ]
        }
      ],
      "source": [
        "import pandas as pd\n",
        "from sklearn.model_selection import train_test_split\n",
        "from sklearn.neural_network import MLPClassifier\n",
        "\n",
        "df = pd.read_csv('diabetes_prediccion_normalizado.csv')\n",
        "\n",
        "X = df.drop(columns=['diabetes']).values\n",
        "Y = df['diabetes'].values\n",
        "\n",
        "X_train, X_test, Y_train, Y_test = train_test_split(X, Y, test_size=1/3, random_state=42)\n",
        "\n",
        "nn = MLPClassifier(\n",
        "    solver='sgd',\n",
        "    hidden_layer_sizes=(6,),\n",
        "    activation='relu',\n",
        "    learning_rate_init=0.01,\n",
        "    max_iter=10_000,\n",
        "    random_state=50,\n",
        ")\n",
        "\n",
        "nn.fit(X_train, Y_train)\n",
        "\n",
        "print(\"Pesos:\", nn.coefs_)\n",
        "print(\"Sesgos:\", nn.intercepts_)\n",
        "\n",
        "print(\"Puntaje del conjunto de entrenamiento:\", nn.score(X_train, Y_train))\n",
        "print(\"Puntaje del conjunto de prueba:\", nn.score(X_test, Y_test))"
      ]
    }
  ]
}